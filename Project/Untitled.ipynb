{
 "cells": [
  {
   "cell_type": "code",
   "execution_count": 2,
   "metadata": {},
   "outputs": [],
   "source": [
    "from bs4 import BeautifulSoup\n",
    "from selenium import webdriver\n",
    "import time\n",
    "\n",
    "url = \"https://login.orbi.kr/login/tutor?url=/oauth/authorize%3Fresponse_type%3Dcode%26client_id%3Dtutor%26redirect_uri%3Dhttps%253A%252F%252Ftutor.orbi.kr%252Flogin%252Fcomplete%26scope%3Dall%26state%3Dhttps%253A%252F%252Ftutor.orbi.kr%252Fsearch%252Fstudents\"\n",
    "\n",
    "driver = webdriver.Chrome(\"/Users/user/Desktop/chromedriver\") # chromedriver가 설치된 경로\n",
    "driver.implicitly_wait(3)\n",
    "driver.get(url)\n",
    "\n",
    "driver.find_element_by_name(\"username\").send_keys(\"wldms5764\")\n",
    "driver.find_element_by_name(\"password\").send_keys(\"ekzm7732!\")\n",
    "driver.find_element_by_class_name(\"submit\").click()\n",
    "\n",
    "find_students = driver.find_element_by_xpath(\"//span[@class='menu-icon menu-icon-find-student']\")\n",
    "find_students.click()\n",
    "\n",
    "login_button = driver.find_element_by_xpath(\"//a[@class='btn-login orbi']\")\n",
    "login_button.click()\n",
    "\n",
    "seoul = driver.find_element_by_xpath(\"//input[@value='11']\")\n",
    "seoul.click()\n",
    "\n",
    "search_button = driver.find_element_by_xpath(\"//input[@class='search-button']\")\n",
    "search_button.click()"
   ]
  }
 ],
 "metadata": {
  "kernelspec": {
   "display_name": "Python 3",
   "language": "python",
   "name": "python3"
  },
  "language_info": {
   "codemirror_mode": {
    "name": "ipython",
    "version": 3
   },
   "file_extension": ".py",
   "mimetype": "text/x-python",
   "name": "python",
   "nbconvert_exporter": "python",
   "pygments_lexer": "ipython3",
   "version": "3.7.4"
  }
 },
 "nbformat": 4,
 "nbformat_minor": 2
}
