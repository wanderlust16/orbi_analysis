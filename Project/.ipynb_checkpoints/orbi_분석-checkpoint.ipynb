{
 "cells": [
  {
   "cell_type": "code",
   "execution_count": 4,
   "metadata": {},
   "outputs": [],
   "source": [
    "areas_cnt = {}\n",
    "gender_cnt = {}\n",
    "grade_cnt = {}\n",
    "\n",
    "fp = open('orbi_areas.txt', 'r')\n",
    "fp2 = open('orbi_grade_route.txt', 'r')\n",
    "fp3 = open('orbi_gender.txt', 'r')\n",
    "def FrequencyCount(f, dict):\n",
    "    for line in f:\n",
    "        line = line.rstrip(\"\\n\")\n",
    "        line = line.lstrip()\n",
    "        if(line != \"\"):\n",
    "            if(line in dict):\n",
    "                dict[line] = dict[line] + 1\n",
    "            else: \n",
    "                dict[line] = 1\n",
    "\n",
    "    for key, val in dict.items():\n",
    "        print(key, val)\n",
    "    \n",
    "    sum = 0\n",
    "    for key, val in dict.items():\n",
    "        if(key != \"\"):\n",
    "            sum += val\n",
    "            \n",
    "    dict['total'] = sum\n",
    "    print(sum)\n",
    "    return dict\n",
    "\n",
    "def GradeFrequencyCount(f, dict):\n",
    "    dict2 = {}\n",
    "    for line in f:\n",
    "        line = line.rstrip(\"\\n\")\n",
    "        line = line.lstrip()\n",
    "        \n",
    "        if(line != \"\"):\n",
    "            if(line == \"문과\" or line == \"이과\"):\n",
    "                if(line in dict2):\n",
    "                    dict2[line] = dict2[line] + 1\n",
    "                else:\n",
    "                    dict2[line] = 1\n",
    "                    \n",
    "            elif(line in dict):\n",
    "                dict[line] = dict[line] + 1\n",
    "            else: \n",
    "                dict[line] = 1\n",
    "\n",
    "    sum=0\n",
    "    sum2 = 0\n",
    "    for key, val in dict.items():\n",
    "        print(key, val)\n",
    "        if(key != \"\"):\n",
    "            sum += val\n",
    "    \n",
    "    for key, val in dict2.items():\n",
    "        print(key, val)\n",
    "        if(key != \"\"):\n",
    "            sum2 += val        \n",
    "            \n",
    "    dict['total'] = sum\n",
    "    dict2['미응답'] = sum-sum2\n",
    "    dict2['total'] = sum\n",
    "    print(sum)\n",
    "    return dict, dict2"
   ]
  },
  {
   "cell_type": "code",
   "execution_count": 5,
   "metadata": {
    "scrolled": true
   },
   "outputs": [
    {
     "name": "stdout",
     "output_type": "stream",
     "text": [
      "서울 마포구 370\n",
      "서울 강남구 1850\n",
      "서울 광진구 370\n",
      "서울 서초구 1480\n",
      "서울 구로구 370\n",
      "서울 강북구 370\n",
      "서울 노원구 740\n",
      "서울 은평구 370\n",
      "서울 서대문구 370\n",
      "서울 동대문구 370\n",
      "서울 양천구 370\n",
      "서울 도봉구 370\n",
      "7400\n",
      "{'서울 마포구': 370, '서울 강남구': 1850, '서울 광진구': 370, '서울 서초구': 1480, '서울 구로구': 370, '서울 강북구': 370, '서울 노원구': 740, '서울 은평구': 370, '서울 서대문구': 370, '서울 동대문구': 370, '서울 양천구': 370, '서울 도봉구': 370, 'total': 7400}\n"
     ]
    }
   ],
   "source": [
    "areas_cnt = FrequencyCount(fp.readlines(), areas_cnt)\n",
    "type(areas_cnt)\n",
    "print(areas_cnt)"
   ]
  },
  {
   "cell_type": "code",
   "execution_count": 6,
   "metadata": {},
   "outputs": [
    {
     "name": "stdout",
     "output_type": "stream",
     "text": [
      "재수/N수생 2220\n",
      "대학생 1480\n",
      "중1 740\n",
      "고3 1110\n",
      "고1 1480\n",
      "중3 370\n",
      "문과 3330\n",
      "이과 3330\n",
      "7400\n"
     ]
    }
   ],
   "source": [
    "grade_cnt, grade_cnt2 = GradeFrequencyCount(fp2.readlines(), grade_cnt)"
   ]
  },
  {
   "cell_type": "code",
   "execution_count": 7,
   "metadata": {},
   "outputs": [
    {
     "name": "stdout",
     "output_type": "stream",
     "text": [
      "남 2590\n",
      "여 4810\n",
      "7400\n"
     ]
    }
   ],
   "source": [
    "gender_cnt = FrequencyCount(fp3.readlines(), gender_cnt)"
   ]
  },
  {
   "cell_type": "code",
   "execution_count": 8,
   "metadata": {},
   "outputs": [],
   "source": [
    "from matplotlib import pyplot as plt\n",
    "from matplotlib.pyplot import pie, axis, show\n",
    "from matplotlib import rc, font_manager\n",
    "import numpy as np\n",
    "import pandas as pd"
   ]
  },
  {
   "cell_type": "code",
   "execution_count": 9,
   "metadata": {},
   "outputs": [
    {
     "name": "stdout",
     "output_type": "stream",
     "text": [
      "서울 마포구      370\n",
      "서울 강남구     1850\n",
      "서울 광진구      370\n",
      "서울 서초구     1480\n",
      "서울 구로구      370\n",
      "서울 강북구      370\n",
      "서울 노원구      740\n",
      "서울 은평구      370\n",
      "서울 서대문구     370\n",
      "서울 동대문구     370\n",
      "서울 양천구      370\n",
      "서울 도봉구      370\n",
      "total      7400\n",
      "dtype: int64 \n",
      "\n",
      "재수/N수생    2220\n",
      "대학생       1480\n",
      "중1         740\n",
      "고3        1110\n",
      "고1        1480\n",
      "중3         370\n",
      "total     7400\n",
      "dtype: int64 \n",
      "\n",
      "문과       3330\n",
      "이과       3330\n",
      "미응답       740\n",
      "total    7400\n",
      "dtype: int64 \n",
      "\n",
      "남        2590\n",
      "여        4810\n",
      "total    7400\n",
      "dtype: int64 \n",
      "\n"
     ]
    }
   ],
   "source": [
    "S1 = pd.Series(areas_cnt)\n",
    "S2 = pd.Series(grade_cnt)\n",
    "S3 = pd.Series(grade_cnt2)\n",
    "S4 = pd.Series(gender_cnt)\n",
    "total = areas_cnt['total']\n",
    "print(S1, \"\\n\")\n",
    "print(S2, \"\\n\")\n",
    "print(S3, \"\\n\")\n",
    "print(S4, \"\\n\")"
   ]
  },
  {
   "cell_type": "code",
   "execution_count": 10,
   "metadata": {},
   "outputs": [],
   "source": [
    "Data = {'Area': list(areas_cnt.keys()), 'count': list(areas_cnt.values())}\n",
    "Area = pd.DataFrame.from_dict(Data)\n",
    "Area = Area.sort_values(by = ['count'], ascending = False)\n",
    "Area.index = [\"\" if i is 0 else i for i in range(0, len(Area['count']))]\n",
    "Area['percentage'] = [str(percent*100/total)+'%' for percent in Area['count']]"
   ]
  },
  {
   "cell_type": "code",
   "execution_count": 11,
   "metadata": {},
   "outputs": [],
   "source": [
    "Data2 = {'학년': list(grade_cnt.keys()), 'count': list(grade_cnt.values())}\n",
    "Grade = pd.DataFrame.from_dict(Data2)\n",
    "Grade['percentage'] = [str(percent*100/total)+'%' for percent in Grade['count']]\n",
    "Grade = Grade.sort_values(by = ['count'], ascending = False)\n",
    "Grade.index = [\"\" if i is 0 else i for i in range(0, len(Grade['count']))]"
   ]
  },
  {
   "cell_type": "code",
   "execution_count": 12,
   "metadata": {},
   "outputs": [],
   "source": [
    "Data3 = {'문과/이과': list(grade_cnt2.keys()), 'count': list(grade_cnt2.values())}\n",
    "Grade2 = pd.DataFrame.from_dict(Data3)\n",
    "Grade2 = Grade2.sort_values(by = ['count'], ascending = False)\n",
    "Grade2['percentage'] = [str(percent*100/total)+'%' for percent in Grade2['count']]\n",
    "Grade2.index = [\"\" if i is 0 else i for i in range(0, len(Grade2['count']))]"
   ]
  },
  {
   "cell_type": "code",
   "execution_count": 13,
   "metadata": {},
   "outputs": [],
   "source": [
    "Data4 = {'성별': list(gender_cnt.keys()), 'count': list(gender_cnt.values())}\n",
    "Gender = pd.DataFrame(Data4)\n",
    "Gender = Gender.sort_values(by = ['count'], ascending = False)\n",
    "Gender['percentage'] = [str(percent*100/total)+'%' for percent in Gender['count']]\n",
    "Gender.index = [\"\" if i is 0 else i for i in range(0, len(Gender['count']))]"
   ]
  },
  {
   "cell_type": "code",
   "execution_count": 14,
   "metadata": {},
   "outputs": [
    {
     "data": {
      "text/html": [
       "<div>\n",
       "<style scoped>\n",
       "    .dataframe tbody tr th:only-of-type {\n",
       "        vertical-align: middle;\n",
       "    }\n",
       "\n",
       "    .dataframe tbody tr th {\n",
       "        vertical-align: top;\n",
       "    }\n",
       "\n",
       "    .dataframe thead th {\n",
       "        text-align: right;\n",
       "    }\n",
       "</style>\n",
       "<table border=\"1\" class=\"dataframe\">\n",
       "  <thead>\n",
       "    <tr style=\"text-align: right;\">\n",
       "      <th></th>\n",
       "      <th>Area</th>\n",
       "      <th>count</th>\n",
       "      <th>percentage</th>\n",
       "    </tr>\n",
       "  </thead>\n",
       "  <tbody>\n",
       "    <tr>\n",
       "      <th></th>\n",
       "      <td>total</td>\n",
       "      <td>7400</td>\n",
       "      <td>100.0%</td>\n",
       "    </tr>\n",
       "    <tr>\n",
       "      <th>1</th>\n",
       "      <td>서울 강남구</td>\n",
       "      <td>1850</td>\n",
       "      <td>25.0%</td>\n",
       "    </tr>\n",
       "    <tr>\n",
       "      <th>2</th>\n",
       "      <td>서울 서초구</td>\n",
       "      <td>1480</td>\n",
       "      <td>20.0%</td>\n",
       "    </tr>\n",
       "    <tr>\n",
       "      <th>3</th>\n",
       "      <td>서울 노원구</td>\n",
       "      <td>740</td>\n",
       "      <td>10.0%</td>\n",
       "    </tr>\n",
       "    <tr>\n",
       "      <th>4</th>\n",
       "      <td>서울 마포구</td>\n",
       "      <td>370</td>\n",
       "      <td>5.0%</td>\n",
       "    </tr>\n",
       "    <tr>\n",
       "      <th>5</th>\n",
       "      <td>서울 광진구</td>\n",
       "      <td>370</td>\n",
       "      <td>5.0%</td>\n",
       "    </tr>\n",
       "    <tr>\n",
       "      <th>6</th>\n",
       "      <td>서울 구로구</td>\n",
       "      <td>370</td>\n",
       "      <td>5.0%</td>\n",
       "    </tr>\n",
       "    <tr>\n",
       "      <th>7</th>\n",
       "      <td>서울 강북구</td>\n",
       "      <td>370</td>\n",
       "      <td>5.0%</td>\n",
       "    </tr>\n",
       "    <tr>\n",
       "      <th>8</th>\n",
       "      <td>서울 은평구</td>\n",
       "      <td>370</td>\n",
       "      <td>5.0%</td>\n",
       "    </tr>\n",
       "    <tr>\n",
       "      <th>9</th>\n",
       "      <td>서울 서대문구</td>\n",
       "      <td>370</td>\n",
       "      <td>5.0%</td>\n",
       "    </tr>\n",
       "    <tr>\n",
       "      <th>10</th>\n",
       "      <td>서울 동대문구</td>\n",
       "      <td>370</td>\n",
       "      <td>5.0%</td>\n",
       "    </tr>\n",
       "    <tr>\n",
       "      <th>11</th>\n",
       "      <td>서울 양천구</td>\n",
       "      <td>370</td>\n",
       "      <td>5.0%</td>\n",
       "    </tr>\n",
       "    <tr>\n",
       "      <th>12</th>\n",
       "      <td>서울 도봉구</td>\n",
       "      <td>370</td>\n",
       "      <td>5.0%</td>\n",
       "    </tr>\n",
       "  </tbody>\n",
       "</table>\n",
       "</div>"
      ],
      "text/plain": [
       "       Area  count percentage\n",
       "      total   7400     100.0%\n",
       "1    서울 강남구   1850      25.0%\n",
       "2    서울 서초구   1480      20.0%\n",
       "3    서울 노원구    740      10.0%\n",
       "4    서울 마포구    370       5.0%\n",
       "5    서울 광진구    370       5.0%\n",
       "6    서울 구로구    370       5.0%\n",
       "7    서울 강북구    370       5.0%\n",
       "8    서울 은평구    370       5.0%\n",
       "9   서울 서대문구    370       5.0%\n",
       "10  서울 동대문구    370       5.0%\n",
       "11   서울 양천구    370       5.0%\n",
       "12   서울 도봉구    370       5.0%"
      ]
     },
     "execution_count": 14,
     "metadata": {},
     "output_type": "execute_result"
    }
   ],
   "source": [
    "Area"
   ]
  },
  {
   "cell_type": "code",
   "execution_count": 15,
   "metadata": {},
   "outputs": [
    {
     "data": {
      "text/html": [
       "<div>\n",
       "<style scoped>\n",
       "    .dataframe tbody tr th:only-of-type {\n",
       "        vertical-align: middle;\n",
       "    }\n",
       "\n",
       "    .dataframe tbody tr th {\n",
       "        vertical-align: top;\n",
       "    }\n",
       "\n",
       "    .dataframe thead th {\n",
       "        text-align: right;\n",
       "    }\n",
       "</style>\n",
       "<table border=\"1\" class=\"dataframe\">\n",
       "  <thead>\n",
       "    <tr style=\"text-align: right;\">\n",
       "      <th></th>\n",
       "      <th>학년</th>\n",
       "      <th>count</th>\n",
       "      <th>percentage</th>\n",
       "    </tr>\n",
       "  </thead>\n",
       "  <tbody>\n",
       "    <tr>\n",
       "      <th></th>\n",
       "      <td>total</td>\n",
       "      <td>7400</td>\n",
       "      <td>100.0%</td>\n",
       "    </tr>\n",
       "    <tr>\n",
       "      <th>1</th>\n",
       "      <td>재수/N수생</td>\n",
       "      <td>2220</td>\n",
       "      <td>30.0%</td>\n",
       "    </tr>\n",
       "    <tr>\n",
       "      <th>2</th>\n",
       "      <td>대학생</td>\n",
       "      <td>1480</td>\n",
       "      <td>20.0%</td>\n",
       "    </tr>\n",
       "    <tr>\n",
       "      <th>3</th>\n",
       "      <td>고1</td>\n",
       "      <td>1480</td>\n",
       "      <td>20.0%</td>\n",
       "    </tr>\n",
       "    <tr>\n",
       "      <th>4</th>\n",
       "      <td>고3</td>\n",
       "      <td>1110</td>\n",
       "      <td>15.0%</td>\n",
       "    </tr>\n",
       "    <tr>\n",
       "      <th>5</th>\n",
       "      <td>중1</td>\n",
       "      <td>740</td>\n",
       "      <td>10.0%</td>\n",
       "    </tr>\n",
       "    <tr>\n",
       "      <th>6</th>\n",
       "      <td>중3</td>\n",
       "      <td>370</td>\n",
       "      <td>5.0%</td>\n",
       "    </tr>\n",
       "  </tbody>\n",
       "</table>\n",
       "</div>"
      ],
      "text/plain": [
       "       학년  count percentage\n",
       "    total   7400     100.0%\n",
       "1  재수/N수생   2220      30.0%\n",
       "2     대학생   1480      20.0%\n",
       "3      고1   1480      20.0%\n",
       "4      고3   1110      15.0%\n",
       "5      중1    740      10.0%\n",
       "6      중3    370       5.0%"
      ]
     },
     "execution_count": 15,
     "metadata": {},
     "output_type": "execute_result"
    }
   ],
   "source": [
    "Grade"
   ]
  },
  {
   "cell_type": "code",
   "execution_count": 16,
   "metadata": {},
   "outputs": [
    {
     "data": {
      "text/html": [
       "<div>\n",
       "<style scoped>\n",
       "    .dataframe tbody tr th:only-of-type {\n",
       "        vertical-align: middle;\n",
       "    }\n",
       "\n",
       "    .dataframe tbody tr th {\n",
       "        vertical-align: top;\n",
       "    }\n",
       "\n",
       "    .dataframe thead th {\n",
       "        text-align: right;\n",
       "    }\n",
       "</style>\n",
       "<table border=\"1\" class=\"dataframe\">\n",
       "  <thead>\n",
       "    <tr style=\"text-align: right;\">\n",
       "      <th></th>\n",
       "      <th>문과/이과</th>\n",
       "      <th>count</th>\n",
       "      <th>percentage</th>\n",
       "    </tr>\n",
       "  </thead>\n",
       "  <tbody>\n",
       "    <tr>\n",
       "      <th></th>\n",
       "      <td>total</td>\n",
       "      <td>7400</td>\n",
       "      <td>100.0%</td>\n",
       "    </tr>\n",
       "    <tr>\n",
       "      <th>1</th>\n",
       "      <td>문과</td>\n",
       "      <td>3330</td>\n",
       "      <td>45.0%</td>\n",
       "    </tr>\n",
       "    <tr>\n",
       "      <th>2</th>\n",
       "      <td>이과</td>\n",
       "      <td>3330</td>\n",
       "      <td>45.0%</td>\n",
       "    </tr>\n",
       "    <tr>\n",
       "      <th>3</th>\n",
       "      <td>미응답</td>\n",
       "      <td>740</td>\n",
       "      <td>10.0%</td>\n",
       "    </tr>\n",
       "  </tbody>\n",
       "</table>\n",
       "</div>"
      ],
      "text/plain": [
       "   문과/이과  count percentage\n",
       "   total   7400     100.0%\n",
       "1     문과   3330      45.0%\n",
       "2     이과   3330      45.0%\n",
       "3    미응답    740      10.0%"
      ]
     },
     "execution_count": 16,
     "metadata": {},
     "output_type": "execute_result"
    }
   ],
   "source": [
    "Grade2"
   ]
  },
  {
   "cell_type": "code",
   "execution_count": 17,
   "metadata": {},
   "outputs": [
    {
     "data": {
      "text/html": [
       "<div>\n",
       "<style scoped>\n",
       "    .dataframe tbody tr th:only-of-type {\n",
       "        vertical-align: middle;\n",
       "    }\n",
       "\n",
       "    .dataframe tbody tr th {\n",
       "        vertical-align: top;\n",
       "    }\n",
       "\n",
       "    .dataframe thead th {\n",
       "        text-align: right;\n",
       "    }\n",
       "</style>\n",
       "<table border=\"1\" class=\"dataframe\">\n",
       "  <thead>\n",
       "    <tr style=\"text-align: right;\">\n",
       "      <th></th>\n",
       "      <th>성별</th>\n",
       "      <th>count</th>\n",
       "      <th>percentage</th>\n",
       "    </tr>\n",
       "  </thead>\n",
       "  <tbody>\n",
       "    <tr>\n",
       "      <th></th>\n",
       "      <td>total</td>\n",
       "      <td>7400</td>\n",
       "      <td>100.0%</td>\n",
       "    </tr>\n",
       "    <tr>\n",
       "      <th>1</th>\n",
       "      <td>여</td>\n",
       "      <td>4810</td>\n",
       "      <td>65.0%</td>\n",
       "    </tr>\n",
       "    <tr>\n",
       "      <th>2</th>\n",
       "      <td>남</td>\n",
       "      <td>2590</td>\n",
       "      <td>35.0%</td>\n",
       "    </tr>\n",
       "  </tbody>\n",
       "</table>\n",
       "</div>"
      ],
      "text/plain": [
       "      성별  count percentage\n",
       "   total   7400     100.0%\n",
       "1      여   4810      65.0%\n",
       "2      남   2590      35.0%"
      ]
     },
     "execution_count": 17,
     "metadata": {},
     "output_type": "execute_result"
    }
   ],
   "source": [
    "Gender"
   ]
  },
  {
   "cell_type": "code",
   "execution_count": 23,
   "metadata": {},
   "outputs": [
    {
     "data": {
      "text/plain": [
       "['/opt/X11/share/fonts/OTF/SyrCOMMardinBold.otf',\n",
       " '/System/Library/Fonts/Supplemental/Verdana Italic.ttf',\n",
       " '/opt/X11/share/fonts/TTF/VeraMono.ttf',\n",
       " '/opt/X11/share/fonts/TTF/VeraSeBd.ttf',\n",
       " '/System/Library/Fonts/ヒラギノ丸ゴ ProN W4.ttc']"
      ]
     },
     "execution_count": 23,
     "metadata": {},
     "output_type": "execute_result"
    }
   ],
   "source": [
    "import matplotlib.font_manager as fm\n",
    "font_list = fm.findSystemFonts(fontpaths=None, fontext='ttf')\n",
    "font_list[:5]"
   ]
  },
  {
   "cell_type": "code",
   "execution_count": 26,
   "metadata": {},
   "outputs": [
    {
     "name": "stdout",
     "output_type": "stream",
     "text": [
      "328\n"
     ]
    },
    {
     "name": "stderr",
     "output_type": "stream",
     "text": [
      "/Library/Frameworks/Python.framework/Versions/3.7/lib/python3.7/site-packages/ipykernel_launcher.py:1: MatplotlibDeprecationWarning: \n",
      "The OSXInstalledFonts function was deprecated in Matplotlib 3.1 and will be removed in 3.3.\n",
      "  \"\"\"Entry point for launching an IPython kernel.\n"
     ]
    }
   ],
   "source": [
    "font_list_mac = fm.OSXInstalledFonts()\n",
    "print(len(font_list_mac))"
   ]
  },
  {
   "cell_type": "code",
   "execution_count": 27,
   "metadata": {},
   "outputs": [
    {
     "name": "stdout",
     "output_type": "stream",
     "text": [
      "374\n"
     ]
    },
    {
     "data": {
      "text/plain": [
       "['STIXNonUnicode',\n",
       " 'DejaVu Serif',\n",
       " 'cmb10',\n",
       " 'DejaVu Sans Display',\n",
       " 'STIXNonUnicode',\n",
       " 'STIXNonUnicode',\n",
       " 'STIXSizeOneSym',\n",
       " 'STIXGeneral',\n",
       " 'STIXGeneral',\n",
       " 'DejaVu Serif Display']"
      ]
     },
     "execution_count": 27,
     "metadata": {},
     "output_type": "execute_result"
    }
   ],
   "source": [
    "f= [f.name for f in fm.fontManager.ttflist]\n",
    "print(len(font_list))\n",
    "f[:10]"
   ]
  },
  {
   "cell_type": "code",
   "execution_count": 32,
   "metadata": {},
   "outputs": [
    {
     "data": {
      "text/plain": [
       "[('Apple SD Gothic Neo', '/System/Library/Fonts/AppleSDGothicNeo.ttc')]"
      ]
     },
     "execution_count": 32,
     "metadata": {},
     "output_type": "execute_result"
    }
   ],
   "source": [
    "[(f.name, f.fname) for f in fm.fontManager.ttflist if 'Apple SD' in f.name]"
   ]
  },
  {
   "cell_type": "code",
   "execution_count": 83,
   "metadata": {},
   "outputs": [
    {
     "data": {
      "image/png": "[encoded data removed]",
      "text/plain": [
       "<Figure size 640x480 with 1 Axes>"
      ]
     },
     "metadata": {},
     "output_type": "display_data"
    }
   ],
   "source": [
    "import matplotlib.pyplot as plt; plt.rcdefaults()\n",
    "import matplotlib as mpl\n",
    "import numpy as np\n",
    "import matplotlib.pyplot as plt\n",
    "import matplotlib\n",
    "\n",
    "matplotlib.rcParams.update(\n",
    "    {\n",
    "        'text.usetex': False,\n",
    "        'font.family': 'Apple SD Gothic Neo',\n",
    "    }\n",
    ")\n",
    "\n",
    "path = '/System/Library/Fonts/AppleSDGothicNeo.ttc'\n",
    "fontprop = fm.FontProperties(fname = path, size = 14)\n",
    "mpl.rcParams['axes.unicode_minus'] = False\n",
    "\n",
    "plt.title('서울 지역별 과외 현황', fontproperties = fontprop)\n",
    "plt.xlabel('count', fontproperties = fontprop)\n",
    "plt.ylabel('area', fontproperties = fontprop)\n",
    "\n",
    "areaList = [area[3:] for area in Area['Area']]\n",
    "countList = [cnt for cnt in Area['count']]\n",
    "plt.bar(areaList[1:], countList[1:])\n",
    "plt.show()"
   ]
  },
  {
   "cell_type": "code",
   "execution_count": 90,
   "metadata": {},
   "outputs": [
    {
     "data": {
      "image/png": "[encoded data removed]",
      "text/plain": [
       "<Figure size 640x480 with 1 Axes>"
      ]
     },
     "metadata": {},
     "output_type": "display_data"
    }
   ],
   "source": [
    "plt.title('서울 학년별 과외 현황', fontproperties = fontprop)\n",
    "plt.ylabel('count', fontproperties = fontprop)\n",
    "plt.xlabel('학년', fontproperties = fontprop)\n",
    "\n",
    "areaList = [grade for grade in Grade['학년']]\n",
    "countList = [cnt for cnt in Grade['count']]\n",
    "plt.bar(areaList[1:], countList[1:])\n",
    "plt.show()"
   ]
  },
  {
   "cell_type": "code",
   "execution_count": 93,
   "metadata": {},
   "outputs": [
    {
     "data": {
      "image/png": "[encoded data removed]",
      "text/plain": [
       "<Figure size 640x480 with 1 Axes>"
      ]
     },
     "metadata": {},
     "output_type": "display_data"
    }
   ],
   "source": [
    "plt.title('서울 문/이과 과외 현황', fontproperties = fontprop)\n",
    "plt.ylabel('count', fontproperties = fontprop)\n",
    "plt.xlabel('학년', fontproperties = fontprop)\n",
    "\n",
    "areaList = [grade for grade in Grade2['문과/이과']]\n",
    "countList = [cnt for cnt in Grade2['count']]\n",
    "plt.bar(areaList[1:], countList[1:])\n",
    "plt.show()"
   ]
  },
  {
   "cell_type": "code",
   "execution_count": 94,
   "metadata": {},
   "outputs": [
    {
     "data": {
      "image/png": "[encoded data removed]",
      "text/plain": [
       "<Figure size 640x480 with 1 Axes>"
      ]
     },
     "metadata": {},
     "output_type": "display_data"
    }
   ],
   "source": [
    "plt.title('서울 성별에 따른 과외 현황', fontproperties = fontprop)\n",
    "plt.xlabel('count', fontproperties = fontprop)\n",
    "plt.ylabel('성별', fontproperties = fontprop)\n",
    "\n",
    "areaList = [grade for grade in Gender['성별']]\n",
    "countList = [cnt for cnt in Gender['count']]\n",
    "plt.bar(areaList[1:], countList[1:])\n",
    "plt.show()"
   ]
  },
  {
   "cell_type": "code",
   "execution_count": null,
   "metadata": {},
   "outputs": [],
   "source": []
  }
 ],
 "metadata": {
  "kernelspec": {
   "display_name": "Python 3",
   "language": "python",
   "name": "python3"
  },
  "language_info": {
   "codemirror_mode": {
    "name": "ipython",
    "version": 3
   },
   "file_extension": ".py",
   "mimetype": "text/x-python",
   "name": "python",
   "nbconvert_exporter": "python",
   "pygments_lexer": "ipython3",
   "version": "3.7.4"
  }
 },
 "nbformat": 4,
 "nbformat_minor": 2
}
