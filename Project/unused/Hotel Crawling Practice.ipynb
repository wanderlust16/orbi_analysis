{
 "cells": [
  {
   "cell_type": "code",
   "execution_count": 1,
   "metadata": {},
   "outputs": [
    {
     "name": "stdout",
     "output_type": "stream",
     "text": [
      "\n",
      "=========================\n",
      " 2019-12-27 ~ 2019-12-28 \n",
      "=========================\n",
      "\n",
      "호텔 더 디자이너스 여의도 (Hotel the Designers Yeouido) 114,545\n"
     ]
    },
    {
     "ename": "AttributeError",
     "evalue": "'NoneType' object has no attribute 'text'",
     "output_type": "error",
     "traceback": [
      "\u001b[0;31m---------------------------------------------------------------------------\u001b[0m",
      "\u001b[0;31mAttributeError\u001b[0m                            Traceback (most recent call last)",
      "\u001b[0;32m<ipython-input-1-ba1ddfafbc44>\u001b[0m in \u001b[0;36m<module>\u001b[0;34m\u001b[0m\n\u001b[1;32m     36\u001b[0m     \u001b[0;32mfor\u001b[0m \u001b[0mhotel_item\u001b[0m \u001b[0;32min\u001b[0m \u001b[0mhotel_container\u001b[0m\u001b[0;34m:\u001b[0m\u001b[0;34m\u001b[0m\u001b[0;34m\u001b[0m\u001b[0m\n\u001b[1;32m     37\u001b[0m         \u001b[0mhotel_name\u001b[0m \u001b[0;34m=\u001b[0m \u001b[0mhotel_item\u001b[0m\u001b[0;34m.\u001b[0m\u001b[0mfind\u001b[0m\u001b[0;34m(\u001b[0m\u001b[0;34m'h3'\u001b[0m\u001b[0;34m,\u001b[0m \u001b[0mclass_\u001b[0m\u001b[0;34m=\u001b[0m\u001b[0;34m'InfoBox__HotelTitle'\u001b[0m\u001b[0;34m)\u001b[0m\u001b[0;34m.\u001b[0m\u001b[0mtext\u001b[0m\u001b[0;34m\u001b[0m\u001b[0;34m\u001b[0m\u001b[0m\n\u001b[0;32m---> 38\u001b[0;31m         \u001b[0mhotel_price\u001b[0m \u001b[0;34m=\u001b[0m \u001b[0mhotel_item\u001b[0m\u001b[0;34m.\u001b[0m\u001b[0mfind\u001b[0m\u001b[0;34m(\u001b[0m\u001b[0;34m'span'\u001b[0m\u001b[0;34m,\u001b[0m \u001b[0mclass_\u001b[0m\u001b[0;34m=\u001b[0m\u001b[0;34m\"price-box__price__amount\"\u001b[0m\u001b[0;34m)\u001b[0m\u001b[0;34m.\u001b[0m\u001b[0mtext\u001b[0m\u001b[0;34m\u001b[0m\u001b[0;34m\u001b[0m\u001b[0m\n\u001b[0m\u001b[1;32m     39\u001b[0m         \u001b[0mprint\u001b[0m\u001b[0;34m(\u001b[0m\u001b[0mhotel_name\u001b[0m\u001b[0;34m,\u001b[0m \u001b[0mhotel_price\u001b[0m\u001b[0;34m)\u001b[0m\u001b[0;34m\u001b[0m\u001b[0;34m\u001b[0m\u001b[0m\n\u001b[1;32m     40\u001b[0m \u001b[0;34m\u001b[0m\u001b[0m\n",
      "\u001b[0;31mAttributeError\u001b[0m: 'NoneType' object has no attribute 'text'"
     ]
    }
   ],
   "source": [
    "# scroll이 한번에 내려가서 모든 가격 정보(page당 8개)를 가져오지 못함\n",
    "# 날짜가 똑같은 것만 뜸\n",
    "# 뜨다가 끊김 \n",
    "from bs4 import BeautifulSoup\n",
    "from selenium import webdriver\n",
    "from selenium.webdriver.support.ui import WebDriverWait\n",
    "from selenium.webdriver.support import expected_conditions as EC\n",
    "from selenium.webdriver.common.by import By\n",
    "import time\n",
    "\n",
    "date_list = [('2019-12-21','2019-12-22'), ('2019-12-22','2019-12-23'), ('2019-12-23','2019-12-24'),\n",
    "         ('2019-12-24','2019-12-25'), ('2019-12-25','2019-12-26'), ('2019-12-26','2019-12-27'), ('2019-12-27','2019-12-28')] \n",
    "url_list = []\n",
    "for (checkIn, checkOut) in date_list:\n",
    "    url = '''\n",
    "        https://www.agoda.com/ko-kr/search?asq=46IF%2BcRFj4y4BDwHsggAopufa9Vwpz6XltTHq4n%2B9gPdk93ksS2SZGs2n%2Fxu7rBZvKXFzRO1okF3HkdYWNX2BP%2BM5AyksBLz08bq9dH0AHdZ0bU8ejQjDTTH7RiZciKTQdwfNLHJVC6MCXlrCAJ%2Bt14sl%2FP%2FByd40g43x6GjslWdR2BMxDqsr3aMfsEussR3Zs0Fcjo95oLflRr6M9YZqV7fP75C7qHYVrDvg%2BWsCDg%3D&area=31216\n",
    "        &cid=1719676&tick=637105280398&txtuuid=5e7804be-324f-4985-b966-a2148fb064c2&languageId=9&userId=4411ec99-d9e9-4ff2-9e15-ab769c694ce9&sessionId=13z2oazonottjkrj5gzxfmoz&pageTypeId=1&origin=KR&locale=ko-KR&aid=130589&currencyCode=KRW&htmlLanguage=ko-kr&cultureInfoName=ko-KR&ckuid=4411ec99-d9e9-4ff2-9e15-ab769c694ce9&prid=0\n",
    "        &checkIn={}&checkOut={}&rooms=1&adults=2&children=0&priceCur=KRW&los=1&textToSearch=%EC%97%AC%EC%9D%98%EB%8F%84&productType=-1&travellerType=1&familyMode=off\n",
    "        '''.format(checkIn, checkOut)\n",
    "    url_list.append(url)\n",
    "    \n",
    "for url in url_list:\n",
    "    print('\\n=========================\\n', checkIn, '~', checkOut, '\\n=========================\\n')\n",
    "    driver = webdriver.Chrome(\"/Users/user/Desktop/chromedriver\")\n",
    "    driver.implicitly_wait(3)\n",
    "    driver.get(url)\n",
    "\n",
    "    driver.execute_script(\"window.scrollTo(0, document.body.scrollHeight);\")\n",
    "    element = WebDriverWait(driver, 10).until(EC.presence_of_all_elements_located((By.CLASS_NAME, 'price-box__price__amount')))\n",
    "\n",
    "    html = driver.page_source\n",
    "    soup = BeautifulSoup(html, 'html.parser')\n",
    "    hotel_container = soup.find_all('section', class_='hotel-item-box')\n",
    "    # hotel_name = hotel_container.find_all('h3', class_='InfoBox__HotelTitle')\n",
    "    # hotel_price = hotel_container.find_all('span', class_=\"price-box__price__amount\")\n",
    "    for hotel_item in hotel_container:\n",
    "        hotel_name = hotel_item.find('h3', class_='InfoBox__HotelTitle').text\n",
    "        hotel_price = hotel_item.find('span', class_=\"price-box__price__amount\").text\n",
    "        print(hotel_name, hotel_price)\n",
    "\n",
    "# prices = soup.find_all('span', class_=\"price-box__price__amount\")\n",
    "# for price in prices:\n",
    "#     print(price.text)"
   ]
  },
  {
   "cell_type": "code",
   "execution_count": null,
   "metadata": {},
   "outputs": [],
   "source": []
  }
 ],
 "metadata": {
  "kernelspec": {
   "display_name": "Python 3",
   "language": "python",
   "name": "python3"
  },
  "language_info": {
   "codemirror_mode": {
    "name": "ipython",
    "version": 3
   },
   "file_extension": ".py",
   "mimetype": "text/x-python",
   "name": "python",
   "nbconvert_exporter": "python",
   "pygments_lexer": "ipython3",
   "version": "3.7.4"
  }
 },
 "nbformat": 4,
 "nbformat_minor": 2
}
