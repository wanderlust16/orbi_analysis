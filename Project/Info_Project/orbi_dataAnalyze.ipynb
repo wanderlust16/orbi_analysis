{
 "cells": [
  {
   "cell_type": "markdown",
   "metadata": {},
   "source": [
    "### <Orbi 과외 시장 data 분석>\n",
    "\n",
    "\n",
    "독어교육과 2014-19498 정은주 인류학과 2016-19715 송지은<br/>\n",
    "4. text file에서 불러온 값을 분석하기 위해, dictionary data Structure를 이용하여 값을 담았습니다.<br/>\n",
    "   학년별 분석 file의 경우는 문이과를 포함하기 때문에 이를 고려하기 위해 dictionary를 2개 return하도록 했습니다.<br/>\n",
    "5. Pandas 및 Matplotlib을 이용해 도표와 그래프로 시각화(total, percentage 등 추가)<br/>\n",
    "   그래프의 경우 한글파일이 깨져 이를 위한 코드를 추가로 첨부하였습니다.\n"
   ]
  },
  {
   "cell_type": "markdown",
   "metadata": {},
   "source": [
    "## 4. File Read and Dictionary "
   ]
  },
  {
   "cell_type": "code",
   "execution_count": 1,
   "metadata": {},
   "outputs": [],
   "source": [
    "areas_cnt = {}\n",
    "gender_cnt = {}\n",
    "grade_cnt = {}\n",
    "\n",
    "fp = open('orbi_areas.txt', 'r')\n",
    "fp2 = open('orbi_grade_route.txt', 'r')\n",
    "fp3 = open('orbi_gender.txt', 'r')\n",
    "def FrequencyCount(f, dict):\n",
    "    for line in f:\n",
    "        line = line.rstrip(\"\\n\")\n",
    "        line = line.lstrip()\n",
    "        if(line != \"\"):\n",
    "            dict[line] = dict.get(line, 0) + 1\n",
    "\n",
    "    for key, val in dict.items():\n",
    "        print(key, val)\n",
    "    \n",
    "    sum = 0\n",
    "    for key, val in dict.items():\n",
    "        if(key != \"\"):\n",
    "            sum += val\n",
    "            \n",
    "    dict['total'] = sum\n",
    "    print(sum)\n",
    "    return dict\n",
    "\n",
    "def GradeFrequencyCount(f, dict):\n",
    "    dict2 = {}\n",
    "    for line in f:\n",
    "        line = line.rstrip(\"\\n\")\n",
    "        line = line.lstrip()\n",
    "        \n",
    "        if(line != \"\"):\n",
    "            if(line == \"문과\" or line == \"이과\"):\n",
    "                dict2[line] = dict2.get(line, 0) + 1\n",
    "                \n",
    "            else:\n",
    "                dict[line] = dict.get(line, 0) + 1\n",
    "\n",
    "    sum=0\n",
    "    sum2 = 0\n",
    "    for key, val in dict.items():\n",
    "        print(key, val)\n",
    "        if(key != \"\"):\n",
    "            sum += val\n",
    "    \n",
    "    for key, val in dict2.items():\n",
    "        print(key, val)\n",
    "        if(key != \"\"):\n",
    "            sum2 += val        \n",
    "            \n",
    "    dict['total'] = sum\n",
    "    dict2['미응답'] = sum-sum2\n",
    "    dict2['total'] = sum\n",
    "    print(sum)\n",
    "    return dict, dict2"
   ]
  },
  {
   "cell_type": "markdown",
   "metadata": {},
   "source": [
    "### 4-1: 지역별 과외수요"
   ]
  },
  {
   "cell_type": "code",
   "execution_count": 2,
   "metadata": {
    "scrolled": false
   },
   "outputs": [
    {
     "name": "stdout",
     "output_type": "stream",
     "text": [
      "서울 강남구 1808\n",
      "서울 서초구 592\n",
      "서울 구로구 126\n",
      "서울 노원구 395\n",
      "서울 송파구 583\n",
      "서울 마포구 224\n",
      "서울 강북구 157\n",
      "서울 양천구 477\n",
      "서울 광진구 208\n",
      "서울 은평구 178\n",
      "서울 서대문구 167\n",
      "서울 동대문구 154\n",
      "서울 도봉구 174\n",
      "서울 강서구 281\n",
      "서울 성북구 217\n",
      "서울 중구 69\n",
      "서울 성동구 158\n",
      "서울 관악구 292\n",
      "서울 동작구 264\n",
      "서울 강동구 378\n",
      "서울 금천구 73\n",
      "서울 중랑구 111\n",
      "서울 용산구 107\n",
      "서울 영등포구 124\n",
      "서울 종로구 84\n",
      "7401\n"
     ]
    }
   ],
   "source": [
    "areas_cnt = FrequencyCount(fp.readlines(), areas_cnt)"
   ]
  },
  {
   "cell_type": "markdown",
   "metadata": {},
   "source": [
    "### 4-2: 학년별 과외 수요"
   ]
  },
  {
   "cell_type": "code",
   "execution_count": 3,
   "metadata": {},
   "outputs": [
    {
     "name": "stdout",
     "output_type": "stream",
     "text": [
      "고3 1788\n",
      "재수/N수생 2345\n",
      "고1 662\n",
      "중2 215\n",
      "대학생 978\n",
      "중1 329\n",
      "중3 280\n",
      "고2 804\n",
      "이과 3965\n",
      "문과 2601\n",
      "7401\n"
     ]
    }
   ],
   "source": [
    "grade_cnt, grade_cnt2 = GradeFrequencyCount(fp2.readlines(), grade_cnt)"
   ]
  },
  {
   "cell_type": "markdown",
   "metadata": {},
   "source": [
    "### 4-3: 성별 과외 수요"
   ]
  },
  {
   "cell_type": "code",
   "execution_count": 4,
   "metadata": {
    "scrolled": true
   },
   "outputs": [
    {
     "name": "stdout",
     "output_type": "stream",
     "text": [
      "남 4026\n",
      "여 3375\n",
      "7401\n"
     ]
    }
   ],
   "source": [
    "gender_cnt = FrequencyCount(fp3.readlines(), gender_cnt)"
   ]
  },
  {
   "cell_type": "markdown",
   "metadata": {},
   "source": [
    "# 5. Matplotlib and Pandas"
   ]
  },
  {
   "cell_type": "code",
   "execution_count": 5,
   "metadata": {},
   "outputs": [],
   "source": [
    "from matplotlib import pyplot as plt\n",
    "from matplotlib import rc, font_manager\n",
    "import numpy as np\n",
    "import pandas as pd"
   ]
  },
  {
   "cell_type": "code",
   "execution_count": 6,
   "metadata": {
    "scrolled": true
   },
   "outputs": [
    {
     "name": "stdout",
     "output_type": "stream",
     "text": [
      "서울 강남구     1808\n",
      "서울 서초구      592\n",
      "서울 구로구      126\n",
      "서울 노원구      395\n",
      "서울 송파구      583\n",
      "서울 마포구      224\n",
      "서울 강북구      157\n",
      "서울 양천구      477\n",
      "서울 광진구      208\n",
      "서울 은평구      178\n",
      "서울 서대문구     167\n",
      "서울 동대문구     154\n",
      "서울 도봉구      174\n",
      "서울 강서구      281\n",
      "서울 성북구      217\n",
      "서울 중구        69\n",
      "서울 성동구      158\n",
      "서울 관악구      292\n",
      "서울 동작구      264\n",
      "서울 강동구      378\n",
      "서울 금천구       73\n",
      "서울 중랑구      111\n",
      "서울 용산구      107\n",
      "서울 영등포구     124\n",
      "서울 종로구       84\n",
      "total      7401\n",
      "dtype: int64 \n",
      "\n",
      "고3        1788\n",
      "재수/N수생    2345\n",
      "고1         662\n",
      "중2         215\n",
      "대학생        978\n",
      "중1         329\n",
      "중3         280\n",
      "고2         804\n",
      "total     7401\n",
      "dtype: int64 \n",
      "\n",
      "이과       3965\n",
      "문과       2601\n",
      "미응답       835\n",
      "total    7401\n",
      "dtype: int64 \n",
      "\n",
      "남        4026\n",
      "여        3375\n",
      "total    7401\n",
      "dtype: int64 \n",
      "\n"
     ]
    }
   ],
   "source": [
    "S1 = pd.Series(areas_cnt)\n",
    "S2 = pd.Series(grade_cnt)\n",
    "S3 = pd.Series(grade_cnt2)\n",
    "S4 = pd.Series(gender_cnt)\n",
    "total = areas_cnt['total']\n",
    "print(S1, \"\\n\")\n",
    "print(S2, \"\\n\")\n",
    "print(S3, \"\\n\")\n",
    "print(S4, \"\\n\")"
   ]
  },
  {
   "cell_type": "markdown",
   "metadata": {},
   "source": [
    "## 5-1: Pandas DataFrame"
   ]
  },
  {
   "cell_type": "code",
   "execution_count": 7,
   "metadata": {},
   "outputs": [],
   "source": [
    "Data = {'지역': list(areas_cnt.keys()), 'count': list(areas_cnt.values())}\n",
    "Area = pd.DataFrame.from_dict(Data)\n",
    "Area = Area.sort_values(by = ['count'], ascending = False)\n",
    "Area.index = [\"\" if i is 0 else i for i in range(0, len(Area['count']))]\n",
    "Area['percentage'] = [str(percent*100/total)+'%' for percent in Area['count']]"
   ]
  },
  {
   "cell_type": "code",
   "execution_count": 8,
   "metadata": {},
   "outputs": [],
   "source": [
    "Data2 = {'학년': list(grade_cnt.keys()), 'count': list(grade_cnt.values())}\n",
    "Grade = pd.DataFrame.from_dict(Data2)\n",
    "Grade['percentage'] = [str(percent*100/total)+'%' for percent in Grade['count']]\n",
    "Grade = Grade.sort_values(by = ['count'], ascending = False)\n",
    "Grade.index = [\"\" if i is 0 else i for i in range(0, len(Grade['count']))]"
   ]
  },
  {
   "cell_type": "code",
   "execution_count": 9,
   "metadata": {},
   "outputs": [],
   "source": [
    "Data3 = {'문과/이과': list(grade_cnt2.keys()), 'count': list(grade_cnt2.values())}\n",
    "Grade2 = pd.DataFrame.from_dict(Data3)\n",
    "Grade2 = Grade2.sort_values(by = ['count'], ascending = False)\n",
    "Grade2['percentage'] = [str(percent*100/total)+'%' for percent in Grade2['count']]\n",
    "Grade2.index = [\"\" if i is 0 else i for i in range(0, len(Grade2['count']))]"
   ]
  },
  {
   "cell_type": "code",
   "execution_count": 10,
   "metadata": {},
   "outputs": [],
   "source": [
    "Data4 = {'성별': list(gender_cnt.keys()), 'count': list(gender_cnt.values())}\n",
    "Gender = pd.DataFrame(Data4)\n",
    "Gender = Gender.sort_values(by = ['count'], ascending = False)\n",
    "Gender['percentage'] = [str(percent*100/total)+'%' for percent in Gender['count']]\n",
    "Gender.index = [\"\" if i is 0 else i for i in range(0, len(Gender['count']))]"
   ]
  },
  {
   "cell_type": "code",
   "execution_count": 11,
   "metadata": {},
   "outputs": [
    {
     "data": {
      "text/html": [
       "<div>\n",
       "<style scoped>\n",
       "    .dataframe tbody tr th:only-of-type {\n",
       "        vertical-align: middle;\n",
       "    }\n",
       "\n",
       "    .dataframe tbody tr th {\n",
       "        vertical-align: top;\n",
       "    }\n",
       "\n",
       "    .dataframe thead th {\n",
       "        text-align: right;\n",
       "    }\n",
       "</style>\n",
       "<table border=\"1\" class=\"dataframe\">\n",
       "  <thead>\n",
       "    <tr style=\"text-align: right;\">\n",
       "      <th></th>\n",
       "      <th>지역</th>\n",
       "      <th>count</th>\n",
       "      <th>percentage</th>\n",
       "    </tr>\n",
       "  </thead>\n",
       "  <tbody>\n",
       "    <tr>\n",
       "      <th></th>\n",
       "      <td>total</td>\n",
       "      <td>7401</td>\n",
       "      <td>100.0%</td>\n",
       "    </tr>\n",
       "    <tr>\n",
       "      <th>1</th>\n",
       "      <td>서울 강남구</td>\n",
       "      <td>1808</td>\n",
       "      <td>24.42913119848669%</td>\n",
       "    </tr>\n",
       "    <tr>\n",
       "      <th>2</th>\n",
       "      <td>서울 서초구</td>\n",
       "      <td>592</td>\n",
       "      <td>7.998919064991218%</td>\n",
       "    </tr>\n",
       "    <tr>\n",
       "      <th>3</th>\n",
       "      <td>서울 송파구</td>\n",
       "      <td>583</td>\n",
       "      <td>7.877313876503175%</td>\n",
       "    </tr>\n",
       "    <tr>\n",
       "      <th>4</th>\n",
       "      <td>서울 양천구</td>\n",
       "      <td>477</td>\n",
       "      <td>6.445074989866234%</td>\n",
       "    </tr>\n",
       "    <tr>\n",
       "      <th>5</th>\n",
       "      <td>서울 노원구</td>\n",
       "      <td>395</td>\n",
       "      <td>5.337116605864073%</td>\n",
       "    </tr>\n",
       "    <tr>\n",
       "      <th>6</th>\n",
       "      <td>서울 강동구</td>\n",
       "      <td>378</td>\n",
       "      <td>5.107417916497771%</td>\n",
       "    </tr>\n",
       "    <tr>\n",
       "      <th>7</th>\n",
       "      <td>서울 관악구</td>\n",
       "      <td>292</td>\n",
       "      <td>3.945412782056479%</td>\n",
       "    </tr>\n",
       "    <tr>\n",
       "      <th>8</th>\n",
       "      <td>서울 강서구</td>\n",
       "      <td>281</td>\n",
       "      <td>3.7967842183488716%</td>\n",
       "    </tr>\n",
       "    <tr>\n",
       "      <th>9</th>\n",
       "      <td>서울 동작구</td>\n",
       "      <td>264</td>\n",
       "      <td>3.56708552898257%</td>\n",
       "    </tr>\n",
       "    <tr>\n",
       "      <th>10</th>\n",
       "      <td>서울 마포구</td>\n",
       "      <td>224</td>\n",
       "      <td>3.0266180245912713%</td>\n",
       "    </tr>\n",
       "    <tr>\n",
       "      <th>11</th>\n",
       "      <td>서울 성북구</td>\n",
       "      <td>217</td>\n",
       "      <td>2.932036211322794%</td>\n",
       "    </tr>\n",
       "    <tr>\n",
       "      <th>12</th>\n",
       "      <td>서울 광진구</td>\n",
       "      <td>208</td>\n",
       "      <td>2.810431022834752%</td>\n",
       "    </tr>\n",
       "    <tr>\n",
       "      <th>13</th>\n",
       "      <td>서울 은평구</td>\n",
       "      <td>178</td>\n",
       "      <td>2.405080394541278%</td>\n",
       "    </tr>\n",
       "    <tr>\n",
       "      <th>14</th>\n",
       "      <td>서울 도봉구</td>\n",
       "      <td>174</td>\n",
       "      <td>2.351033644102148%</td>\n",
       "    </tr>\n",
       "    <tr>\n",
       "      <th>15</th>\n",
       "      <td>서울 서대문구</td>\n",
       "      <td>167</td>\n",
       "      <td>2.256451830833671%</td>\n",
       "    </tr>\n",
       "    <tr>\n",
       "      <th>16</th>\n",
       "      <td>서울 성동구</td>\n",
       "      <td>158</td>\n",
       "      <td>2.134846642345629%</td>\n",
       "    </tr>\n",
       "    <tr>\n",
       "      <th>17</th>\n",
       "      <td>서울 강북구</td>\n",
       "      <td>157</td>\n",
       "      <td>2.1213349547358464%</td>\n",
       "    </tr>\n",
       "    <tr>\n",
       "      <th>18</th>\n",
       "      <td>서울 동대문구</td>\n",
       "      <td>154</td>\n",
       "      <td>2.080799891906499%</td>\n",
       "    </tr>\n",
       "    <tr>\n",
       "      <th>19</th>\n",
       "      <td>서울 구로구</td>\n",
       "      <td>126</td>\n",
       "      <td>1.7024726388325901%</td>\n",
       "    </tr>\n",
       "    <tr>\n",
       "      <th>20</th>\n",
       "      <td>서울 영등포구</td>\n",
       "      <td>124</td>\n",
       "      <td>1.6754492636130254%</td>\n",
       "    </tr>\n",
       "    <tr>\n",
       "      <th>21</th>\n",
       "      <td>서울 중랑구</td>\n",
       "      <td>111</td>\n",
       "      <td>1.4997973246858534%</td>\n",
       "    </tr>\n",
       "    <tr>\n",
       "      <th>22</th>\n",
       "      <td>서울 용산구</td>\n",
       "      <td>107</td>\n",
       "      <td>1.4457505742467234%</td>\n",
       "    </tr>\n",
       "    <tr>\n",
       "      <th>23</th>\n",
       "      <td>서울 종로구</td>\n",
       "      <td>84</td>\n",
       "      <td>1.1349817592217268%</td>\n",
       "    </tr>\n",
       "    <tr>\n",
       "      <th>24</th>\n",
       "      <td>서울 금천구</td>\n",
       "      <td>73</td>\n",
       "      <td>0.9863531955141197%</td>\n",
       "    </tr>\n",
       "    <tr>\n",
       "      <th>25</th>\n",
       "      <td>서울 중구</td>\n",
       "      <td>69</td>\n",
       "      <td>0.9323064450749898%</td>\n",
       "    </tr>\n",
       "  </tbody>\n",
       "</table>\n",
       "</div>"
      ],
      "text/plain": [
       "         지역  count           percentage\n",
       "      total   7401               100.0%\n",
       "1    서울 강남구   1808   24.42913119848669%\n",
       "2    서울 서초구    592   7.998919064991218%\n",
       "3    서울 송파구    583   7.877313876503175%\n",
       "4    서울 양천구    477   6.445074989866234%\n",
       "5    서울 노원구    395   5.337116605864073%\n",
       "6    서울 강동구    378   5.107417916497771%\n",
       "7    서울 관악구    292   3.945412782056479%\n",
       "8    서울 강서구    281  3.7967842183488716%\n",
       "9    서울 동작구    264    3.56708552898257%\n",
       "10   서울 마포구    224  3.0266180245912713%\n",
       "11   서울 성북구    217   2.932036211322794%\n",
       "12   서울 광진구    208   2.810431022834752%\n",
       "13   서울 은평구    178   2.405080394541278%\n",
       "14   서울 도봉구    174   2.351033644102148%\n",
       "15  서울 서대문구    167   2.256451830833671%\n",
       "16   서울 성동구    158   2.134846642345629%\n",
       "17   서울 강북구    157  2.1213349547358464%\n",
       "18  서울 동대문구    154   2.080799891906499%\n",
       "19   서울 구로구    126  1.7024726388325901%\n",
       "20  서울 영등포구    124  1.6754492636130254%\n",
       "21   서울 중랑구    111  1.4997973246858534%\n",
       "22   서울 용산구    107  1.4457505742467234%\n",
       "23   서울 종로구     84  1.1349817592217268%\n",
       "24   서울 금천구     73  0.9863531955141197%\n",
       "25    서울 중구     69  0.9323064450749898%"
      ]
     },
     "execution_count": 11,
     "metadata": {},
     "output_type": "execute_result"
    }
   ],
   "source": [
    "Area"
   ]
  },
  {
   "cell_type": "code",
   "execution_count": 12,
   "metadata": {},
   "outputs": [
    {
     "data": {
      "text/html": [
       "<div>\n",
       "<style scoped>\n",
       "    .dataframe tbody tr th:only-of-type {\n",
       "        vertical-align: middle;\n",
       "    }\n",
       "\n",
       "    .dataframe tbody tr th {\n",
       "        vertical-align: top;\n",
       "    }\n",
       "\n",
       "    .dataframe thead th {\n",
       "        text-align: right;\n",
       "    }\n",
       "</style>\n",
       "<table border=\"1\" class=\"dataframe\">\n",
       "  <thead>\n",
       "    <tr style=\"text-align: right;\">\n",
       "      <th></th>\n",
       "      <th>학년</th>\n",
       "      <th>count</th>\n",
       "      <th>percentage</th>\n",
       "    </tr>\n",
       "  </thead>\n",
       "  <tbody>\n",
       "    <tr>\n",
       "      <th></th>\n",
       "      <td>total</td>\n",
       "      <td>7401</td>\n",
       "      <td>100.0%</td>\n",
       "    </tr>\n",
       "    <tr>\n",
       "      <th>1</th>\n",
       "      <td>재수/N수생</td>\n",
       "      <td>2345</td>\n",
       "      <td>31.684907444939874%</td>\n",
       "    </tr>\n",
       "    <tr>\n",
       "      <th>2</th>\n",
       "      <td>고3</td>\n",
       "      <td>1788</td>\n",
       "      <td>24.158897446291043%</td>\n",
       "    </tr>\n",
       "    <tr>\n",
       "      <th>3</th>\n",
       "      <td>대학생</td>\n",
       "      <td>978</td>\n",
       "      <td>13.214430482367248%</td>\n",
       "    </tr>\n",
       "    <tr>\n",
       "      <th>4</th>\n",
       "      <td>고2</td>\n",
       "      <td>804</td>\n",
       "      <td>10.8633968382651%</td>\n",
       "    </tr>\n",
       "    <tr>\n",
       "      <th>5</th>\n",
       "      <td>고1</td>\n",
       "      <td>662</td>\n",
       "      <td>8.94473719767599%</td>\n",
       "    </tr>\n",
       "    <tr>\n",
       "      <th>6</th>\n",
       "      <td>중1</td>\n",
       "      <td>329</td>\n",
       "      <td>4.44534522361843%</td>\n",
       "    </tr>\n",
       "    <tr>\n",
       "      <th>7</th>\n",
       "      <td>중3</td>\n",
       "      <td>280</td>\n",
       "      <td>3.7832725307390893%</td>\n",
       "    </tr>\n",
       "    <tr>\n",
       "      <th>8</th>\n",
       "      <td>중2</td>\n",
       "      <td>215</td>\n",
       "      <td>2.9050128361032295%</td>\n",
       "    </tr>\n",
       "  </tbody>\n",
       "</table>\n",
       "</div>"
      ],
      "text/plain": [
       "       학년  count           percentage\n",
       "    total   7401               100.0%\n",
       "1  재수/N수생   2345  31.684907444939874%\n",
       "2      고3   1788  24.158897446291043%\n",
       "3     대학생    978  13.214430482367248%\n",
       "4      고2    804    10.8633968382651%\n",
       "5      고1    662    8.94473719767599%\n",
       "6      중1    329    4.44534522361843%\n",
       "7      중3    280  3.7832725307390893%\n",
       "8      중2    215  2.9050128361032295%"
      ]
     },
     "execution_count": 12,
     "metadata": {},
     "output_type": "execute_result"
    }
   ],
   "source": [
    "Grade"
   ]
  },
  {
   "cell_type": "code",
   "execution_count": 13,
   "metadata": {},
   "outputs": [
    {
     "data": {
      "text/html": [
       "<div>\n",
       "<style scoped>\n",
       "    .dataframe tbody tr th:only-of-type {\n",
       "        vertical-align: middle;\n",
       "    }\n",
       "\n",
       "    .dataframe tbody tr th {\n",
       "        vertical-align: top;\n",
       "    }\n",
       "\n",
       "    .dataframe thead th {\n",
       "        text-align: right;\n",
       "    }\n",
       "</style>\n",
       "<table border=\"1\" class=\"dataframe\">\n",
       "  <thead>\n",
       "    <tr style=\"text-align: right;\">\n",
       "      <th></th>\n",
       "      <th>문과/이과</th>\n",
       "      <th>count</th>\n",
       "      <th>percentage</th>\n",
       "    </tr>\n",
       "  </thead>\n",
       "  <tbody>\n",
       "    <tr>\n",
       "      <th></th>\n",
       "      <td>total</td>\n",
       "      <td>7401</td>\n",
       "      <td>100.0%</td>\n",
       "    </tr>\n",
       "    <tr>\n",
       "      <th>1</th>\n",
       "      <td>이과</td>\n",
       "      <td>3965</td>\n",
       "      <td>53.57384137278746%</td>\n",
       "    </tr>\n",
       "    <tr>\n",
       "      <th>2</th>\n",
       "      <td>문과</td>\n",
       "      <td>2601</td>\n",
       "      <td>35.143899473044186%</td>\n",
       "    </tr>\n",
       "    <tr>\n",
       "      <th>3</th>\n",
       "      <td>미응답</td>\n",
       "      <td>835</td>\n",
       "      <td>11.282259154168356%</td>\n",
       "    </tr>\n",
       "  </tbody>\n",
       "</table>\n",
       "</div>"
      ],
      "text/plain": [
       "   문과/이과  count           percentage\n",
       "   total   7401               100.0%\n",
       "1     이과   3965   53.57384137278746%\n",
       "2     문과   2601  35.143899473044186%\n",
       "3    미응답    835  11.282259154168356%"
      ]
     },
     "execution_count": 13,
     "metadata": {},
     "output_type": "execute_result"
    }
   ],
   "source": [
    "Grade2"
   ]
  },
  {
   "cell_type": "code",
   "execution_count": 14,
   "metadata": {},
   "outputs": [
    {
     "data": {
      "text/html": [
       "<div>\n",
       "<style scoped>\n",
       "    .dataframe tbody tr th:only-of-type {\n",
       "        vertical-align: middle;\n",
       "    }\n",
       "\n",
       "    .dataframe tbody tr th {\n",
       "        vertical-align: top;\n",
       "    }\n",
       "\n",
       "    .dataframe thead th {\n",
       "        text-align: right;\n",
       "    }\n",
       "</style>\n",
       "<table border=\"1\" class=\"dataframe\">\n",
       "  <thead>\n",
       "    <tr style=\"text-align: right;\">\n",
       "      <th></th>\n",
       "      <th>성별</th>\n",
       "      <th>count</th>\n",
       "      <th>percentage</th>\n",
       "    </tr>\n",
       "  </thead>\n",
       "  <tbody>\n",
       "    <tr>\n",
       "      <th></th>\n",
       "      <td>total</td>\n",
       "      <td>7401</td>\n",
       "      <td>100.0%</td>\n",
       "    </tr>\n",
       "    <tr>\n",
       "      <th>1</th>\n",
       "      <td>남</td>\n",
       "      <td>4026</td>\n",
       "      <td>54.398054316984194%</td>\n",
       "    </tr>\n",
       "    <tr>\n",
       "      <th>2</th>\n",
       "      <td>여</td>\n",
       "      <td>3375</td>\n",
       "      <td>45.601945683015806%</td>\n",
       "    </tr>\n",
       "  </tbody>\n",
       "</table>\n",
       "</div>"
      ],
      "text/plain": [
       "      성별  count           percentage\n",
       "   total   7401               100.0%\n",
       "1      남   4026  54.398054316984194%\n",
       "2      여   3375  45.601945683015806%"
      ]
     },
     "execution_count": 14,
     "metadata": {},
     "output_type": "execute_result"
    }
   ],
   "source": [
    "Gender"
   ]
  },
  {
   "cell_type": "markdown",
   "metadata": {},
   "source": [
    "## 5-2: Matplotlib \n",
    "** Graph 한글 font 오류로 인해 mac 컴퓨터 내의 font 설정 과정까지 기입되어 있습니다."
   ]
  },
  {
   "cell_type": "code",
   "execution_count": 15,
   "metadata": {},
   "outputs": [
    {
     "data": {
      "text/plain": [
       "['/opt/X11/share/fonts/OTF/SyrCOMMalankara.otf',\n",
       " '/System/Library/Fonts/Supplemental/STIXGeneral.otf',\n",
       " '/System/Library/Fonts/NotoSansKannada.ttc',\n",
       " '/System/Library/Fonts/Supplemental/Oriya MN.ttc',\n",
       " '/System/Library/Fonts/Supplemental/Khmer MN.ttc']"
      ]
     },
     "execution_count": 15,
     "metadata": {},
     "output_type": "execute_result"
    }
   ],
   "source": [
    "import matplotlib.font_manager as fm\n",
    "font_list = fm.findSystemFonts(fontpaths=None, fontext='ttf')\n",
    "font_list[:5]"
   ]
  },
  {
   "cell_type": "code",
   "execution_count": 16,
   "metadata": {},
   "outputs": [
    {
     "name": "stdout",
     "output_type": "stream",
     "text": [
      "328\n"
     ]
    },
    {
     "name": "stderr",
     "output_type": "stream",
     "text": [
      "/Library/Frameworks/Python.framework/Versions/3.7/lib/python3.7/site-packages/ipykernel_launcher.py:1: MatplotlibDeprecationWarning: \n",
      "The OSXInstalledFonts function was deprecated in Matplotlib 3.1 and will be removed in 3.3.\n",
      "  \"\"\"Entry point for launching an IPython kernel.\n"
     ]
    }
   ],
   "source": [
    "font_list_mac = fm.OSXInstalledFonts()\n",
    "print(len(font_list_mac))"
   ]
  },
  {
   "cell_type": "code",
   "execution_count": 17,
   "metadata": {},
   "outputs": [
    {
     "name": "stdout",
     "output_type": "stream",
     "text": [
      "374\n"
     ]
    },
    {
     "data": {
      "text/plain": [
       "['STIXNonUnicode',\n",
       " 'DejaVu Serif',\n",
       " 'cmb10',\n",
       " 'DejaVu Sans Display',\n",
       " 'STIXNonUnicode',\n",
       " 'STIXNonUnicode',\n",
       " 'STIXSizeOneSym',\n",
       " 'STIXGeneral',\n",
       " 'STIXGeneral',\n",
       " 'DejaVu Serif Display']"
      ]
     },
     "execution_count": 17,
     "metadata": {},
     "output_type": "execute_result"
    }
   ],
   "source": [
    "f= [f.name for f in fm.fontManager.ttflist]\n",
    "print(len(font_list))\n",
    "f[:10]"
   ]
  },
  {
   "cell_type": "code",
   "execution_count": 18,
   "metadata": {},
   "outputs": [
    {
     "data": {
      "text/plain": [
       "[('Apple SD Gothic Neo', '/System/Library/Fonts/AppleSDGothicNeo.ttc')]"
      ]
     },
     "execution_count": 18,
     "metadata": {},
     "output_type": "execute_result"
    }
   ],
   "source": [
    "[(f.name, f.fname) for f in fm.fontManager.ttflist if 'Apple SD' in f.name]"
   ]
  },
  {
   "cell_type": "code",
   "execution_count": 19,
   "metadata": {},
   "outputs": [
    {
     "data": {
      "image/png": "[encoded data removed]",
      "text/plain": [
       "<Figure size 1500x1000 with 1 Axes>"
      ]
     },
     "metadata": {},
     "output_type": "display_data"
    }
   ],
   "source": [
    "import matplotlib.pyplot as plt; plt.rcdefaults()\n",
    "import matplotlib as mpl\n",
    "import numpy as np\n",
    "import matplotlib.pyplot as plt\n",
    "import matplotlib\n",
    "\n",
    "matplotlib.rcParams.update(\n",
    "    {\n",
    "        'text.usetex': False,\n",
    "        'font.family': 'Apple SD Gothic Neo',\n",
    "    }\n",
    ")\n",
    "\n",
    "path = '/System/Library/Fonts/AppleSDGothicNeo.ttc'\n",
    "fontprop = fm.FontProperties(fname = path, size = 14)\n",
    "mpl.rcParams['axes.unicode_minus'] = False\n",
    "\n",
    "areaList = [area[3:] for area in Area['지역']]\n",
    "countList = [cnt for cnt in Area['count']]\n",
    "plt.figure(figsize=(15, 10))\n",
    "plt.bar(areaList[1:], countList[1:], align='center', width=0.7)\n",
    "plt.title('서울 지역별 과외수요 현황', fontproperties = fontprop, fontsize = 20)\n",
    "plt.show()"
   ]
  },
  {
   "cell_type": "code",
   "execution_count": 20,
   "metadata": {},
   "outputs": [
    {
     "data": {
      "image/png": "[encoded data removed]",
      "text/plain": [
       "<Figure size 640x480 with 1 Axes>"
      ]
     },
     "metadata": {},
     "output_type": "display_data"
    }
   ],
   "source": [
    "areaList = [grade for grade in Grade['학년']]\n",
    "countList = [cnt for cnt in Grade['count']]\n",
    "plt.bar(areaList[1:], countList[1:])\n",
    "plt.title('서울 학년별 과외수요 현황', fontproperties = fontprop)\n",
    "plt.show()"
   ]
  },
  {
   "cell_type": "code",
   "execution_count": 21,
   "metadata": {},
   "outputs": [
    {
     "data": {
      "image/png": "[encoded data removed]",
      "text/plain": [
       "<Figure size 400x400 with 1 Axes>"
      ]
     },
     "metadata": {},
     "output_type": "display_data"
    }
   ],
   "source": [
    "areaList = [grade for grade in Grade2['문과/이과']]\n",
    "countList = [cnt for cnt in Grade2['count']]\n",
    "plt.figure(figsize=(4, 4))\n",
    "plt.bar(areaList[1:], countList[1:])\n",
    "plt.title('서울 문/이과 과외수요 현황', fontproperties = fontprop)\n",
    "plt.show()"
   ]
  },
  {
   "cell_type": "code",
   "execution_count": 22,
   "metadata": {},
   "outputs": [
    {
     "data": {
      "image/png": "[encoded data removed]",
      "text/plain": [
       "<Figure size 300x300 with 1 Axes>"
      ]
     },
     "metadata": {},
     "output_type": "display_data"
    }
   ],
   "source": [
    "areaList = [grade for grade in Gender['성별']]\n",
    "countList = [cnt for cnt in Gender['count']]\n",
    "plt.figure(figsize=(3, 3))\n",
    "plt.bar(areaList[1:], countList[1:], width =0.7)\n",
    "plt.title('서울 성별에 따른 과외수요 현황', fontproperties = fontprop, fontsize = 11)\n",
    "plt.show()"
   ]
  }
 ],
 "metadata": {
  "kernelspec": {
   "display_name": "Python 3",
   "language": "python",
   "name": "python3"
  },
  "language_info": {
   "codemirror_mode": {
    "name": "ipython",
    "version": 3
   },
   "file_extension": ".py",
   "mimetype": "text/x-python",
   "name": "python",
   "nbconvert_exporter": "python",
   "pygments_lexer": "ipython3",
   "version": "3.7.3"
  }
 },
 "nbformat": 4,
 "nbformat_minor": 2
}
